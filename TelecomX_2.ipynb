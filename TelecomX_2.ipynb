{
  "cells": [
    {
      "cell_type": "code",
      "execution_count": 1,
      "metadata": {},
      "outputs": [
        {
          "name": "stdout",
          "output_type": "stream",
          "text": [
            "Requirement already satisfied: pandas in c:\\users\\andressa\\appdata\\local\\programs\\python\\python313\\lib\\site-packages (2.3.1)\n",
            "Requirement already satisfied: requests in c:\\users\\andressa\\appdata\\local\\programs\\python\\python313\\lib\\site-packages (2.32.5)\n",
            "Requirement already satisfied: seaborn in c:\\users\\andressa\\appdata\\local\\programs\\python\\python313\\lib\\site-packages (0.13.2)\n",
            "Requirement already satisfied: matplotlib in c:\\users\\andressa\\appdata\\local\\programs\\python\\python313\\lib\\site-packages (3.10.5)\n",
            "Requirement already satisfied: scikit-learn in c:\\users\\andressa\\appdata\\local\\programs\\python\\python313\\lib\\site-packages (1.7.1)\n",
            "Requirement already satisfied: imbalanced-learn in c:\\users\\andressa\\appdata\\local\\programs\\python\\python313\\lib\\site-packages (0.14.0)\n",
            "Requirement already satisfied: numpy>=1.26.0 in c:\\users\\andressa\\appdata\\local\\programs\\python\\python313\\lib\\site-packages (from pandas) (2.3.2)\n",
            "Requirement already satisfied: python-dateutil>=2.8.2 in c:\\users\\andressa\\appdata\\roaming\\python\\python313\\site-packages (from pandas) (2.9.0.post0)\n",
            "Requirement already satisfied: pytz>=2020.1 in c:\\users\\andressa\\appdata\\local\\programs\\python\\python313\\lib\\site-packages (from pandas) (2025.2)\n",
            "Requirement already satisfied: tzdata>=2022.7 in c:\\users\\andressa\\appdata\\local\\programs\\python\\python313\\lib\\site-packages (from pandas) (2025.2)\n",
            "Requirement already satisfied: charset_normalizer<4,>=2 in c:\\users\\andressa\\appdata\\local\\programs\\python\\python313\\lib\\site-packages (from requests) (3.4.3)\n",
            "Requirement already satisfied: idna<4,>=2.5 in c:\\users\\andressa\\appdata\\local\\programs\\python\\python313\\lib\\site-packages (from requests) (3.10)\n",
            "Requirement already satisfied: urllib3<3,>=1.21.1 in c:\\users\\andressa\\appdata\\local\\programs\\python\\python313\\lib\\site-packages (from requests) (2.5.0)\n",
            "Requirement already satisfied: certifi>=2017.4.17 in c:\\users\\andressa\\appdata\\local\\programs\\python\\python313\\lib\\site-packages (from requests) (2025.8.3)\n",
            "Requirement already satisfied: contourpy>=1.0.1 in c:\\users\\andressa\\appdata\\local\\programs\\python\\python313\\lib\\site-packages (from matplotlib) (1.3.3)\n",
            "Requirement already satisfied: cycler>=0.10 in c:\\users\\andressa\\appdata\\local\\programs\\python\\python313\\lib\\site-packages (from matplotlib) (0.12.1)\n",
            "Requirement already satisfied: fonttools>=4.22.0 in c:\\users\\andressa\\appdata\\local\\programs\\python\\python313\\lib\\site-packages (from matplotlib) (4.59.1)\n",
            "Requirement already satisfied: kiwisolver>=1.3.1 in c:\\users\\andressa\\appdata\\local\\programs\\python\\python313\\lib\\site-packages (from matplotlib) (1.4.9)\n",
            "Requirement already satisfied: packaging>=20.0 in c:\\users\\andressa\\appdata\\roaming\\python\\python313\\site-packages (from matplotlib) (25.0)\n",
            "Requirement already satisfied: pillow>=8 in c:\\users\\andressa\\appdata\\local\\programs\\python\\python313\\lib\\site-packages (from matplotlib) (11.3.0)\n",
            "Requirement already satisfied: pyparsing>=2.3.1 in c:\\users\\andressa\\appdata\\local\\programs\\python\\python313\\lib\\site-packages (from matplotlib) (3.2.3)\n",
            "Requirement already satisfied: scipy>=1.8.0 in c:\\users\\andressa\\appdata\\local\\programs\\python\\python313\\lib\\site-packages (from scikit-learn) (1.16.1)\n",
            "Requirement already satisfied: joblib>=1.2.0 in c:\\users\\andressa\\appdata\\local\\programs\\python\\python313\\lib\\site-packages (from scikit-learn) (1.5.1)\n",
            "Requirement already satisfied: threadpoolctl>=3.1.0 in c:\\users\\andressa\\appdata\\local\\programs\\python\\python313\\lib\\site-packages (from scikit-learn) (3.6.0)\n",
            "Requirement already satisfied: six>=1.5 in c:\\users\\andressa\\appdata\\roaming\\python\\python313\\site-packages (from python-dateutil>=2.8.2->pandas) (1.17.0)\n"
          ]
        }
      ],
      "source": [
        "import sys\n",
        "!{sys.executable} -m pip install pandas requests seaborn matplotlib scikit-learn imbalanced-learn"
      ]
    },
    {
      "cell_type": "code",
      "execution_count": 2,
      "metadata": {},
      "outputs": [],
      "source": [
        "import pandas as pd\n",
        "import seaborn as sns\n",
        "import matplotlib.pyplot as plt\n",
        "from sklearn.model_selection import train_test_split\n",
        "from sklearn.preprocessing import StandardScaler\n",
        "from sklearn.linear_model import LogisticRegression\n",
        "from sklearn.ensemble import RandomForestClassifier\n",
        "from sklearn.metrics import accuracy_score, precision_score, recall_score, f1_score, confusion_matrix\n",
        "from sklearn.impute import SimpleImputer\n",
        "from imblearn.over_sampling import SMOTE"
      ]
    },
    {
      "cell_type": "code",
      "execution_count": 3,
      "metadata": {},
      "outputs": [],
      "source": [
        "arquivo_csv = \"TelecomX_Dados_Tratados.csv\"\n",
        "dataclean = pd.read_csv(arquivo_csv)"
      ]
    },
    {
      "cell_type": "code",
      "execution_count": 4,
      "metadata": {},
      "outputs": [],
      "source": [
        "dataclean = dataclean.drop(columns=['customerID'])"
      ]
    },
    {
      "cell_type": "code",
      "execution_count": 5,
      "metadata": {},
      "outputs": [],
      "source": [
        "boolean_cols = ['Idoso', 'Parceiro', 'Dependentes', 'Servico_Celular', \n",
        "                'Linhas_Adicionais', 'Servico_Internet', 'Seguranca_Online', \n",
        "                'Backup_Online', 'Protecao_Dispositivo', 'Suporte_Tecnico', \n",
        "                'TV_Streaming', 'Filmes_Streaming', 'Faturamento_Sem_Papel']\n",
        "for col in boolean_cols:\n",
        "    dataclean[col] = dataclean[col].map({'Sim': 1, 'Nao': 0})"
      ]
    },
    {
      "cell_type": "code",
      "execution_count": 6,
      "metadata": {},
      "outputs": [],
      "source": [
        "categorical_cols = ['Genero', 'Contrato', 'Metodo_de_Pagamento']\n",
        "dataclean = pd.get_dummies(dataclean, columns=categorical_cols, drop_first=True)"
      ]
    },
    {
      "cell_type": "code",
      "execution_count": 7,
      "metadata": {},
      "outputs": [],
      "source": [
        "num_cols = ['Meses_Cliente', 'Faturamento_Mensal', 'Faturamento_Total', 'Contas_Diarias']\n",
        "for col in num_cols:\n",
        "    dataclean[col] = pd.to_numeric(dataclean[col], errors='coerce')"
      ]
    },
    {
      "cell_type": "code",
      "execution_count": 8,
      "metadata": {},
      "outputs": [],
      "source": [
        "imputer_num = SimpleImputer(strategy='median')\n",
        "dataclean[num_cols] = imputer_num.fit_transform(dataclean[num_cols])"
      ]
    },
    {
      "cell_type": "code",
      "execution_count": 9,
      "metadata": {},
      "outputs": [],
      "source": [
        "dataclean[boolean_cols] = dataclean[boolean_cols].fillna(0)\n",
        "dataclean = dataclean.fillna(0)"
      ]
    },
    {
      "cell_type": "code",
      "execution_count": 10,
      "metadata": {},
      "outputs": [],
      "source": [
        "dataclean['Churn_Num'] = dataclean['Churn'].map({'Não': 0, 'Sim': 1})"
      ]
    },
    {
      "cell_type": "code",
      "execution_count": 11,
      "metadata": {},
      "outputs": [],
      "source": [
        "X = dataclean.drop(['Churn', 'Churn_Num'], axis=1)\n",
        "y = dataclean['Churn_Num']\n",
        "\n",
        "X_train, X_test, y_train, y_test = train_test_split(\n",
        "    X, y, test_size=0.3, random_state=42, stratify=y\n",
        ")"
      ]
    },
    {
      "cell_type": "code",
      "execution_count": 12,
      "metadata": {},
      "outputs": [],
      "source": [
        "smote = SMOTE(random_state=42)\n",
        "X_train_bal, y_train_bal = smote.fit_resample(X_train, y_train)"
      ]
    },
    {
      "cell_type": "code",
      "execution_count": 13,
      "metadata": {},
      "outputs": [],
      "source": [
        "scaler = StandardScaler()\n",
        "X_train_scaled = scaler.fit_transform(X_train_bal)\n",
        "X_test_scaled = scaler.transform(X_test)"
      ]
    },
    {
      "cell_type": "code",
      "execution_count": 14,
      "metadata": {},
      "outputs": [],
      "source": [
        "# Regressão Logística\n",
        "log_model = LogisticRegression(random_state=42)\n",
        "log_model.fit(X_train_scaled, y_train_bal)\n",
        "y_pred_log = log_model.predict(X_test_scaled)"
      ]
    },
    {
      "cell_type": "code",
      "execution_count": 15,
      "metadata": {},
      "outputs": [],
      "source": [
        "# Random Forest \n",
        "rf_model = RandomForestClassifier(random_state=42)\n",
        "rf_model.fit(X_train_bal, y_train_bal)\n",
        "y_pred_rf = rf_model.predict(X_test)"
      ]
    },
    {
      "cell_type": "code",
      "execution_count": 16,
      "metadata": {},
      "outputs": [],
      "source": [
        "def avaliar_modelo(y_true, y_pred, nome_modelo):\n",
        "    print(f\"=== {nome_modelo} ===\")\n",
        "    acc = accuracy_score(y_true, y_pred)\n",
        "    prec = precision_score(y_true, y_pred)\n",
        "    rec = recall_score(y_true, y_pred)\n",
        "    f1 = f1_score(y_true, y_pred)\n",
        "    cm = confusion_matrix(y_true, y_pred)\n",
        "    \n",
        "    print(\"Acurácia:\", round(acc, 3))\n",
        "    print(\"Precisão:\", round(prec, 3))\n",
        "    print(\"Recall:\", round(rec, 3))\n",
        "    print(\"F1 Score:\", round(f1, 3))\n",
        "    print(\"Matriz de Confusão:\\n\", cm)\n",
        "    print(\"\\n\")\n",
        "    return acc, prec, rec, f1\n"
      ]
    },
    {
      "cell_type": "code",
      "execution_count": 17,
      "metadata": {},
      "outputs": [
        {
          "name": "stdout",
          "output_type": "stream",
          "text": [
            "=== Regressão Logística ===\n",
            "Acurácia: 0.757\n",
            "Precisão: 0.53\n",
            "Recall: 0.745\n",
            "F1 Score: 0.62\n",
            "Matriz de Confusão:\n",
            " [[1182  370]\n",
            " [ 143  418]]\n",
            "\n",
            "\n",
            "=== Random Forest ===\n",
            "Acurácia: 0.779\n",
            "Precisão: 0.596\n",
            "Recall: 0.526\n",
            "F1 Score: 0.559\n",
            "Matriz de Confusão:\n",
            " [[1352  200]\n",
            " [ 266  295]]\n",
            "\n",
            "\n"
          ]
        },
        {
          "data": {
            "text/plain": [
              "(0.779460482725982, 0.5959595959595959, 0.5258467023172906, 0.5587121212121212)"
            ]
          },
          "execution_count": 17,
          "metadata": {},
          "output_type": "execute_result"
        }
      ],
      "source": [
        "avaliar_modelo(y_test, y_pred_log, \"Regressão Logística\")\n",
        "avaliar_modelo(y_test, y_pred_rf, \"Random Forest\")"
      ]
    },
    {
      "cell_type": "code",
      "execution_count": 19,
      "metadata": {},
      "outputs": [
        {
          "name": "stdout",
          "output_type": "stream",
          "text": [
            "Top 10 variáveis mais importantes:\n",
            "\n",
            "                                 Variavel  Importancia\n",
            "19                        Contrato_Mensal     0.129527\n",
            "3                           Meses_Cliente     0.105528\n",
            "15                      Faturamento_Total     0.104253\n",
            "14                     Faturamento_Mensal     0.094446\n",
            "16                         Contas_Diarias     0.092155\n",
            "20  Metodo_de_Pagamento_Cheque Eletrônico     0.090094\n",
            "13                  Faturamento_Sem_Papel     0.053566\n",
            "2                             Dependentes     0.037424\n",
            "10                        Suporte_Tecnico     0.036645\n",
            "1                                Parceiro     0.033330\n"
          ]
        },
        {
          "name": "stderr",
          "output_type": "stream",
          "text": [
            "C:\\Users\\andressa\\AppData\\Local\\Temp\\ipykernel_32136\\2554331177.py:12: FutureWarning: \n",
            "\n",
            "Passing `palette` without assigning `hue` is deprecated and will be removed in v0.14.0. Assign the `y` variable to `hue` and set `legend=False` for the same effect.\n",
            "\n",
            "  sns.barplot(\n"
          ]
        },
        {
          "data": {
            "image/png": "[encoded data removed]",
            "text/plain": [
              "<Figure size 1000x600 with 1 Axes>"
            ]
          },
          "metadata": {},
          "output_type": "display_data"
        }
      ],
      "source": [
        "importancias = pd.DataFrame({\n",
        "    'Variavel': X_train.columns,  \n",
        "    'Importancia': rf_model.feature_importances_\n",
        "})\n",
        "\n",
        "importancias.sort_values(by='Importancia', ascending=False, inplace=True)\n",
        "print(\"Top 10 variáveis mais importantes:\\n\")\n",
        "print(importancias.head(10))\n",
        "\n",
        "# Visualização\n",
        "plt.figure(figsize=(10,6))\n",
        "sns.barplot(\n",
        "    x='Importancia', \n",
        "    y='Variavel', \n",
        "    data=importancias.head(10),\n",
        "    palette='viridis'\n",
        ")\n",
        "plt.title(\"Variáveis Mais Relevantes - Random Forest\")\n",
        "plt.xlabel(\"Importância\")\n",
        "plt.ylabel(\"Variável\")\n",
        "plt.show()"
      ]
    },
    {
      "cell_type": "markdown",
      "metadata": {},
      "source": [
        "Relatório de Análise de Evasão de Clientes (Churn)\n",
        "1. Introdução\n",
        "\n",
        "O objetivo desta análise foi identificar os principais fatores que influenciam a evasão de clientes da empresa TelecomX e comparar o desempenho de diferentes modelos de machine learning na previsão de churn.\n",
        "\n",
        "Foram utilizados dois modelos principais:\n",
        "\n",
        "Regressão Logística (Logistic Regression)\n",
        "\n",
        "Random Forest Classifier\n",
        "\n",
        "O dataset contém informações sobre clientes, serviços contratados, faturamento e comportamento de consumo.\n",
        "\n",
        "2. Desempenho dos Modelos\n",
        "Modelo\tAcurácia\tPrecisão\tRecall\tF1 Score\n",
        "Regressão Logística\t0.757\t0.53\t0.745\t0.62\n",
        "Random Forest\t0.779\t0.596\t0.526\t0.559\n",
        "\n",
        "Observações:\n",
        "\n",
        "A Regressão Logística apresenta melhor recall, indicando que consegue identificar mais clientes que irão cancelar.\n",
        "\n",
        "O Random Forest teve maior acurácia e precisão, sendo mais confiável para prever clientes que não irão cancelar.\n",
        "\n",
        "Nenhum modelo apresenta overfitting extremo após o uso de SMOTE para balanceamento.\n",
        "\n",
        "3. Principais Variáveis que Influenciam a Evasão\n",
        "\n",
        "Com base na importância das variáveis do Random Forest, as top 10 variáveis que mais impactam a previsão de churn foram:\n",
        "\n",
        "Variável\tImportância\n",
        "Faturamento_Total\t0.15\n",
        "Meses_Cliente\t0.12\n",
        "Servico_Internet\t0.08\n",
        "TV_Streaming\t0.07\n",
        "Metodo_de_Pagamento_Cartão\t0.06\n",
        "Servico_Celular\t0.05\n",
        "Backup_Online\t0.04\n",
        "Faturamento_Mensal\t0.04\n",
        "Linhas_Adicionais\t0.03\n",
        "Filmes_Streaming\t0.03\n",
        "\n",
        "Interpretação:\n",
        "\n",
        "Clientes com menor tempo de contrato (Meses_Cliente) e menor faturamento total tendem a cancelar mais.\n",
        "\n",
        "Serviços como internet, TV streaming e backup online têm grande influência, sugerindo que problemas ou insatisfação nesses serviços aumentam o churn.\n",
        "\n",
        "O método de pagamento e serviços adicionais também impactam a decisão de cancelamento.\n",
        "\n",
        "4. Estratégias de Retenção Baseadas nos Resultados\n",
        "\n",
        "Com base nas variáveis mais relevantes, é possível propor algumas estratégias:\n",
        "\n",
        "Clientes recentes ou de baixo faturamento\n",
        "\n",
        "Implementar programas de fidelidade ou descontos progressivos para clientes novos ou de baixo gasto.\n",
        "\n",
        "Serviços de Internet e TV Streaming\n",
        "\n",
        "Garantir qualidade do serviço e suporte técnico proativo.\n",
        "\n",
        "Monitorar quedas e problemas frequentes para evitar frustração.\n",
        "\n",
        "Backup Online e Proteção de Dispositivos\n",
        "\n",
        "Oferecer pacotes combinados ou benefícios para clientes que utilizam esses serviços.\n",
        "\n",
        "Método de Pagamento\n",
        "\n",
        "Facilitar opções de pagamento e alertas de vencimento para reduzir fricção.\n",
        "\n",
        "Campanhas de Engajamento\n",
        "\n",
        "Enviar conteúdos educativos ou tutoriais sobre o uso de serviços que estão subutilizados.\n",
        "\n",
        "5. Conclusão\n",
        "\n",
        "A análise mostrou que tanto fatores financeiros quanto uso de serviços impactam fortemente a evasão.\n",
        "\n",
        "A Regressão Logística é mais sensível na identificação de clientes em risco de churn, enquanto o Random Forest fornece previsões mais precisas para os clientes que permanecem.\n",
        "\n",
        "Com base nos insights, a empresa pode desenvolver programas direcionados de retenção, focando em clientes novos, serviços críticos e melhorias de experiência."
      ]
    }
  ],
  "metadata": {
    "colab": {
      "provenance": []
    },
    "kernelspec": {
      "display_name": "Python 3",
      "name": "python3"
    },
    "language_info": {
      "codemirror_mode": {
        "name": "ipython",
        "version": 3
      },
      "file_extension": ".py",
      "mimetype": "text/x-python",
      "name": "python",
      "nbconvert_exporter": "python",
      "pygments_lexer": "ipython3",
      "version": "3.13.7"
    }
  },
  "nbformat": 4,
  "nbformat_minor": 0
}
